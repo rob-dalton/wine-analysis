{
 "cells": [
  {
   "cell_type": "markdown",
   "metadata": {},
   "source": [
    "# Topic Modeling wtih Winemag Data: Term Extraction Benchmarks\n",
    "<b>10/8/2018</b><br>\n",
    "Space to set example benchmarks for term extraction on [WineMag data](https://www.kaggle.com/zynicide/wine-reviews/home).\n",
    "<hr>"
   ]
  },
  {
   "cell_type": "code",
   "execution_count": 91,
   "metadata": {
    "collapsed": true
   },
   "outputs": [],
   "source": [
    "import pandas as pd\n",
    "import numpy as np\n",
    "import matplotlib.pyplot as plt\n",
    "\n",
    "%matplotlib inline"
   ]
  },
  {
   "cell_type": "code",
   "execution_count": 92,
   "metadata": {
    "collapsed": true
   },
   "outputs": [],
   "source": [
    "# load data\n",
    "df = pd.read_csv('./data/winemag-data-130k-v2.csv', index_col=0)"
   ]
  },
  {
   "cell_type": "code",
   "execution_count": 3,
   "metadata": {},
   "outputs": [
    {
     "data": {
      "text/html": [
       "<div>\n",
       "<style>\n",
       "    .dataframe thead tr:only-child th {\n",
       "        text-align: right;\n",
       "    }\n",
       "\n",
       "    .dataframe thead th {\n",
       "        text-align: left;\n",
       "    }\n",
       "\n",
       "    .dataframe tbody tr th {\n",
       "        vertical-align: top;\n",
       "    }\n",
       "</style>\n",
       "<table border=\"1\" class=\"dataframe\">\n",
       "  <thead>\n",
       "    <tr style=\"text-align: right;\">\n",
       "      <th></th>\n",
       "      <th>country</th>\n",
       "      <th>description</th>\n",
       "      <th>designation</th>\n",
       "      <th>points</th>\n",
       "      <th>price</th>\n",
       "      <th>province</th>\n",
       "      <th>region_1</th>\n",
       "      <th>region_2</th>\n",
       "      <th>taster_name</th>\n",
       "      <th>taster_twitter_handle</th>\n",
       "      <th>title</th>\n",
       "      <th>variety</th>\n",
       "      <th>winery</th>\n",
       "    </tr>\n",
       "  </thead>\n",
       "  <tbody>\n",
       "    <tr>\n",
       "      <th>0</th>\n",
       "      <td>Italy</td>\n",
       "      <td>Aromas include tropical fruit, broom, brimston...</td>\n",
       "      <td>Vulkà Bianco</td>\n",
       "      <td>87</td>\n",
       "      <td>NaN</td>\n",
       "      <td>Sicily &amp; Sardinia</td>\n",
       "      <td>Etna</td>\n",
       "      <td>NaN</td>\n",
       "      <td>Kerin O’Keefe</td>\n",
       "      <td>@kerinokeefe</td>\n",
       "      <td>Nicosia 2013 Vulkà Bianco  (Etna)</td>\n",
       "      <td>White Blend</td>\n",
       "      <td>Nicosia</td>\n",
       "    </tr>\n",
       "    <tr>\n",
       "      <th>1</th>\n",
       "      <td>Portugal</td>\n",
       "      <td>This is ripe and fruity, a wine that is smooth...</td>\n",
       "      <td>Avidagos</td>\n",
       "      <td>87</td>\n",
       "      <td>15.0</td>\n",
       "      <td>Douro</td>\n",
       "      <td>NaN</td>\n",
       "      <td>NaN</td>\n",
       "      <td>Roger Voss</td>\n",
       "      <td>@vossroger</td>\n",
       "      <td>Quinta dos Avidagos 2011 Avidagos Red (Douro)</td>\n",
       "      <td>Portuguese Red</td>\n",
       "      <td>Quinta dos Avidagos</td>\n",
       "    </tr>\n",
       "    <tr>\n",
       "      <th>2</th>\n",
       "      <td>US</td>\n",
       "      <td>Tart and snappy, the flavors of lime flesh and...</td>\n",
       "      <td>NaN</td>\n",
       "      <td>87</td>\n",
       "      <td>14.0</td>\n",
       "      <td>Oregon</td>\n",
       "      <td>Willamette Valley</td>\n",
       "      <td>Willamette Valley</td>\n",
       "      <td>Paul Gregutt</td>\n",
       "      <td>@paulgwine</td>\n",
       "      <td>Rainstorm 2013 Pinot Gris (Willamette Valley)</td>\n",
       "      <td>Pinot Gris</td>\n",
       "      <td>Rainstorm</td>\n",
       "    </tr>\n",
       "  </tbody>\n",
       "</table>\n",
       "</div>"
      ],
      "text/plain": [
       "    country                                        description   designation  \\\n",
       "0     Italy  Aromas include tropical fruit, broom, brimston...  Vulkà Bianco   \n",
       "1  Portugal  This is ripe and fruity, a wine that is smooth...      Avidagos   \n",
       "2        US  Tart and snappy, the flavors of lime flesh and...           NaN   \n",
       "\n",
       "   points  price           province           region_1           region_2  \\\n",
       "0      87    NaN  Sicily & Sardinia               Etna                NaN   \n",
       "1      87   15.0              Douro                NaN                NaN   \n",
       "2      87   14.0             Oregon  Willamette Valley  Willamette Valley   \n",
       "\n",
       "     taster_name taster_twitter_handle  \\\n",
       "0  Kerin O’Keefe          @kerinokeefe   \n",
       "1     Roger Voss            @vossroger   \n",
       "2   Paul Gregutt           @paulgwine    \n",
       "\n",
       "                                           title         variety  \\\n",
       "0              Nicosia 2013 Vulkà Bianco  (Etna)     White Blend   \n",
       "1  Quinta dos Avidagos 2011 Avidagos Red (Douro)  Portuguese Red   \n",
       "2  Rainstorm 2013 Pinot Gris (Willamette Valley)      Pinot Gris   \n",
       "\n",
       "                winery  \n",
       "0              Nicosia  \n",
       "1  Quinta dos Avidagos  \n",
       "2            Rainstorm  "
      ]
     },
     "execution_count": 3,
     "metadata": {},
     "output_type": "execute_result"
    }
   ],
   "source": [
    "df.head(3)"
   ]
  },
  {
   "cell_type": "markdown",
   "metadata": {
    "collapsed": true
   },
   "source": [
    "## Summary\n",
    "\n",
    "Our goal is to examine the topics that exist within the wine tasting descriptions. To perform the analysis, we'll first remove unessary stopwords (such as 'the', 'for', 'when', etc) to remove noise. We'll then lemmatize the remaining words (find their base forms) to make the topic indicators more consistent. Finally, we'll use TF-IDF vectors and Latent Dirichlet Analysis (LDA) to separate the descriptions into topic groups."
   ]
  },
  {
   "cell_type": "code",
   "execution_count": 64,
   "metadata": {
    "collapsed": true
   },
   "outputs": [],
   "source": [
    "# setup for stopword removal, topic word extraction\n",
    "import spacy\n",
    "\n",
    "nlp = spacy.load('en')\n",
    "\n",
    "def is_valid(tk):\n",
    "    \"\"\" Return True if token is not a stopword, punctuation character, blank space or digit.\"\"\"\n",
    "    invalid_conditions = (\n",
    "        tk.is_stop,\n",
    "        tk.pos_ == 'PUNCT',\n",
    "        tk.lemma_ == ' ',\n",
    "        tk.lemma_.isdigit()\n",
    "    )\n",
    "    if any(invalid_conditions):\n",
    "        return False\n",
    "    return True\n",
    "    \n",
    "def extract_lemmatized_topic_words(doc):\n",
    "    \"\"\" Extract valid topic words from Spacy doc \"\"\"\n",
    "    return [tk.lemma_ for tk in nlp(doc) if is_valid(tk)]\n",
    "\n",
    "def extract_tw_from_row(row):\n",
    "    return extract_lemmatized_topic_words(row['description'])"
   ]
  },
  {
   "cell_type": "code",
   "execution_count": 5,
   "metadata": {
    "collapsed": true
   },
   "outputs": [],
   "source": [
    "# extract topic words for full dataset\n",
    "# df['topic_words'] = df.description.apply(extract_lemmatized_topic_words)\n",
    "\n",
    "# get sample to extract topic words from\n",
    "df_sample = df.sample(n=100, replace=False, random_state=42)"
   ]
  },
  {
   "cell_type": "markdown",
   "metadata": {},
   "source": [
    "### Create Parallelized Version"
   ]
  },
  {
   "cell_type": "code",
   "execution_count": 6,
   "metadata": {
    "collapsed": true
   },
   "outputs": [],
   "source": [
    "import dask.dataframe as dd\n",
    "from multiprocessing import cpu_count"
   ]
  },
  {
   "cell_type": "code",
   "execution_count": 84,
   "metadata": {},
   "outputs": [],
   "source": [
    "# load data\n",
    "ddf = dd.read_csv('./data/winemag-data-130k-v2.csv')\n",
    "ddf = ddf.drop('Unnamed: 0', axis=1)\n",
    "\n",
    "# get sample\n",
    "ddf_sample = ddf.sample(frac=0.0007694, random_state=42, replace=False)\n",
    "ddf_sample = ddf_sample.repartition(npartitions=4)"
   ]
  },
  {
   "cell_type": "code",
   "execution_count": 87,
   "metadata": {},
   "outputs": [],
   "source": [
    "# add tw\n",
    "ddf_sample['topic_words'] = ddf_sample.description.apply(extract_lemmatized_topic_words,\n",
    "                                                         args=(),\n",
    "                                                         meta=pd.Series(dtype='object', name='topic_words'))"
   ]
  },
  {
   "cell_type": "code",
   "execution_count": 88,
   "metadata": {},
   "outputs": [
    {
     "data": {
      "text/html": [
       "<div>\n",
       "<style>\n",
       "    .dataframe thead tr:only-child th {\n",
       "        text-align: right;\n",
       "    }\n",
       "\n",
       "    .dataframe thead th {\n",
       "        text-align: left;\n",
       "    }\n",
       "\n",
       "    .dataframe tbody tr th {\n",
       "        vertical-align: top;\n",
       "    }\n",
       "</style>\n",
       "<table border=\"1\" class=\"dataframe\">\n",
       "  <thead>\n",
       "    <tr style=\"text-align: right;\">\n",
       "      <th></th>\n",
       "      <th>country</th>\n",
       "      <th>description</th>\n",
       "      <th>designation</th>\n",
       "      <th>points</th>\n",
       "      <th>price</th>\n",
       "      <th>province</th>\n",
       "      <th>region_1</th>\n",
       "      <th>region_2</th>\n",
       "      <th>taster_name</th>\n",
       "      <th>taster_twitter_handle</th>\n",
       "      <th>title</th>\n",
       "      <th>variety</th>\n",
       "      <th>winery</th>\n",
       "      <th>topic_words</th>\n",
       "    </tr>\n",
       "  </thead>\n",
       "  <tbody>\n",
       "    <tr>\n",
       "      <th>33857</th>\n",
       "      <td>US</td>\n",
       "      <td>A blend of nearly two-thirds Cabernet Sauvigno...</td>\n",
       "      <td>Claret</td>\n",
       "      <td>87</td>\n",
       "      <td>20.0</td>\n",
       "      <td>Washington</td>\n",
       "      <td>Horse Heaven Hills</td>\n",
       "      <td>Columbia Valley</td>\n",
       "      <td>Sean P. Sullivan</td>\n",
       "      <td>@wawinereport</td>\n",
       "      <td>Robert Karl 2010 Claret Red (Horse Heaven Hills)</td>\n",
       "      <td>Bordeaux-style Red Blend</td>\n",
       "      <td>Robert Karl</td>\n",
       "      <td>[a, blend, nearly, third, cabernet, sauvignon,...</td>\n",
       "    </tr>\n",
       "    <tr>\n",
       "      <th>117319</th>\n",
       "      <td>US</td>\n",
       "      <td>Block One is the original (1972) planting at C...</td>\n",
       "      <td>Champoux Vineyards Block One</td>\n",
       "      <td>96</td>\n",
       "      <td>72.0</td>\n",
       "      <td>Washington</td>\n",
       "      <td>Columbia Valley (WA)</td>\n",
       "      <td>Columbia Valley</td>\n",
       "      <td>Paul Gregutt</td>\n",
       "      <td>@paulgwine</td>\n",
       "      <td>Sineann 2012 Champoux Vineyards Block One Cabe...</td>\n",
       "      <td>Cabernet Sauvignon</td>\n",
       "      <td>Sineann</td>\n",
       "      <td>[block, one, original, plant, champoux, anchor...</td>\n",
       "    </tr>\n",
       "    <tr>\n",
       "      <th>39310</th>\n",
       "      <td>Austria</td>\n",
       "      <td>Fresh, superripe as well as candied pineapple ...</td>\n",
       "      <td>Eiswein Jungherrn</td>\n",
       "      <td>94</td>\n",
       "      <td>NaN</td>\n",
       "      <td>Vienna</td>\n",
       "      <td>NaN</td>\n",
       "      <td>NaN</td>\n",
       "      <td>Anne Krebiehl MW</td>\n",
       "      <td>@AnneInVino</td>\n",
       "      <td>Stift Klosterneuburg 2011 Eiswein Jungherrn Ch...</td>\n",
       "      <td>Chardonnay</td>\n",
       "      <td>Stift Klosterneuburg</td>\n",
       "      <td>[fresh, superripe, candy, pineapple, combine, ...</td>\n",
       "    </tr>\n",
       "    <tr>\n",
       "      <th>56509</th>\n",
       "      <td>US</td>\n",
       "      <td>The fruit on this Syrah is so ripe that the bl...</td>\n",
       "      <td>Lafond Vineyard</td>\n",
       "      <td>82</td>\n",
       "      <td>40.0</td>\n",
       "      <td>California</td>\n",
       "      <td>Sta. Rita Hills</td>\n",
       "      <td>Central Coast</td>\n",
       "      <td>NaN</td>\n",
       "      <td>NaN</td>\n",
       "      <td>Lafond 2010 Lafond Vineyard Syrah (Sta. Rita H...</td>\n",
       "      <td>Syrah</td>\n",
       "      <td>Lafond</td>\n",
       "      <td>[the, fruit, syrah, ripe, blackberry, venture,...</td>\n",
       "    </tr>\n",
       "    <tr>\n",
       "      <th>118702</th>\n",
       "      <td>Chile</td>\n",
       "      <td>Soft aromas of sea shell, stone and mango appe...</td>\n",
       "      <td>Culpeo Made with Organic Grapes</td>\n",
       "      <td>82</td>\n",
       "      <td>10.0</td>\n",
       "      <td>Curicó Valley</td>\n",
       "      <td>NaN</td>\n",
       "      <td>NaN</td>\n",
       "      <td>Michael Schachner</td>\n",
       "      <td>@wineschach</td>\n",
       "      <td>Viña La Fortuna 2012 Culpeo Made with Organic ...</td>\n",
       "      <td>Chardonnay</td>\n",
       "      <td>Viña La Fortuna</td>\n",
       "      <td>[soft, aroma, sea, shell, stone, mango, appear...</td>\n",
       "    </tr>\n",
       "  </tbody>\n",
       "</table>\n",
       "</div>"
      ],
      "text/plain": [
       "        country                                        description  \\\n",
       "33857        US  A blend of nearly two-thirds Cabernet Sauvigno...   \n",
       "117319       US  Block One is the original (1972) planting at C...   \n",
       "39310   Austria  Fresh, superripe as well as candied pineapple ...   \n",
       "56509        US  The fruit on this Syrah is so ripe that the bl...   \n",
       "118702    Chile  Soft aromas of sea shell, stone and mango appe...   \n",
       "\n",
       "                            designation  points  price       province  \\\n",
       "33857                            Claret      87   20.0     Washington   \n",
       "117319     Champoux Vineyards Block One      96   72.0     Washington   \n",
       "39310                 Eiswein Jungherrn      94    NaN         Vienna   \n",
       "56509                   Lafond Vineyard      82   40.0     California   \n",
       "118702  Culpeo Made with Organic Grapes      82   10.0  Curicó Valley   \n",
       "\n",
       "                    region_1         region_2        taster_name  \\\n",
       "33857     Horse Heaven Hills  Columbia Valley   Sean P. Sullivan   \n",
       "117319  Columbia Valley (WA)  Columbia Valley       Paul Gregutt   \n",
       "39310                    NaN              NaN   Anne Krebiehl MW   \n",
       "56509        Sta. Rita Hills    Central Coast                NaN   \n",
       "118702                   NaN              NaN  Michael Schachner   \n",
       "\n",
       "       taster_twitter_handle  \\\n",
       "33857          @wawinereport   \n",
       "117319           @paulgwine    \n",
       "39310            @AnneInVino   \n",
       "56509                    NaN   \n",
       "118702           @wineschach   \n",
       "\n",
       "                                                    title  \\\n",
       "33857    Robert Karl 2010 Claret Red (Horse Heaven Hills)   \n",
       "117319  Sineann 2012 Champoux Vineyards Block One Cabe...   \n",
       "39310   Stift Klosterneuburg 2011 Eiswein Jungherrn Ch...   \n",
       "56509   Lafond 2010 Lafond Vineyard Syrah (Sta. Rita H...   \n",
       "118702  Viña La Fortuna 2012 Culpeo Made with Organic ...   \n",
       "\n",
       "                         variety                winery  \\\n",
       "33857   Bordeaux-style Red Blend           Robert Karl   \n",
       "117319        Cabernet Sauvignon               Sineann   \n",
       "39310                 Chardonnay  Stift Klosterneuburg   \n",
       "56509                      Syrah                Lafond   \n",
       "118702                Chardonnay       Viña La Fortuna   \n",
       "\n",
       "                                              topic_words  \n",
       "33857   [a, blend, nearly, third, cabernet, sauvignon,...  \n",
       "117319  [block, one, original, plant, champoux, anchor...  \n",
       "39310   [fresh, superripe, candy, pineapple, combine, ...  \n",
       "56509   [the, fruit, syrah, ripe, blackberry, venture,...  \n",
       "118702  [soft, aroma, sea, shell, stone, mango, appear...  "
      ]
     },
     "execution_count": 88,
     "metadata": {},
     "output_type": "execute_result"
    }
   ],
   "source": [
    "ddf_sample.head()"
   ]
  },
  {
   "cell_type": "code",
   "execution_count": 95,
   "metadata": {},
   "outputs": [
    {
     "data": {
      "text/plain": [
       "129971"
      ]
     },
     "execution_count": 95,
     "metadata": {},
     "output_type": "execute_result"
    }
   ],
   "source": [
    "len(ddf)"
   ]
  },
  {
   "cell_type": "code",
   "execution_count": 96,
   "metadata": {
    "collapsed": true
   },
   "outputs": [],
   "source": []
  },
  {
   "cell_type": "code",
   "execution_count": 98,
   "metadata": {},
   "outputs": [],
   "source": []
  },
  {
   "cell_type": "code",
   "execution_count": 102,
   "metadata": {},
   "outputs": [],
   "source": []
  },
  {
   "cell_type": "code",
   "execution_count": null,
   "metadata": {
    "collapsed": true
   },
   "outputs": [],
   "source": []
  }
 ],
 "metadata": {
  "kernelspec": {
   "display_name": "Python 3",
   "language": "python",
   "name": "python3"
  },
  "language_info": {
   "codemirror_mode": {
    "name": "ipython",
    "version": 3
   },
   "file_extension": ".py",
   "mimetype": "text/x-python",
   "name": "python",
   "nbconvert_exporter": "python",
   "pygments_lexer": "ipython3",
   "version": "3.6.3"
  }
 },
 "nbformat": 4,
 "nbformat_minor": 2
}
